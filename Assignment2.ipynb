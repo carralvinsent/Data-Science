{
 "cells": [
  {
   "cell_type": "raw",
   "metadata": {},
   "source": [
    "QUESTION 1:"
   ]
  },
  {
   "cell_type": "code",
   "execution_count": 3,
   "metadata": {},
   "outputs": [
    {
     "name": "stdout",
     "output_type": "stream",
     "text": [
      "11\n",
      "44\n",
      "11\n",
      "33\n",
      "88\n",
      "555\n",
      "666\n",
      "0\n",
      "44\n",
      "55\n",
      "[44, 88, 666, 0, 44]\n"
     ]
    }
   ],
   "source": [
    "li = []\n",
    "for i in range(10):\n",
    "    x = int(input())\n",
    "    if x%2==0:\n",
    "        li.append(x)\n",
    "print(li)"
   ]
  },
  {
   "cell_type": "raw",
   "metadata": {},
   "source": [
    "QUESTION 2: "
   ]
  },
  {
   "cell_type": "raw",
   "metadata": {},
   "source": [
    "List comprehension is used to generate a list using an iterator as the basis for the list being created.They consist of brackets containing the expression, which is executed for each element along with the for loop to iterate over each element. Syntax: new_list = (value for_loop condition)"
   ]
  },
  {
   "cell_type": "raw",
   "metadata": {},
   "source": [
    "QUESTION 3:"
   ]
  },
  {
   "cell_type": "code",
   "execution_count": 6,
   "metadata": {},
   "outputs": [
    {
     "name": "stdout",
     "output_type": "stream",
     "text": [
      "6\n",
      "{1: 1, 2: 4, 3: 9, 4: 16, 5: 25, 6: 36}\n"
     ]
    }
   ],
   "source": [
    "x = int(input())\n",
    "d = {}\n",
    "for i in range(1,x+1):\n",
    "    d[i]=i*i\n",
    "print(d)\n",
    "    "
   ]
  },
  {
   "cell_type": "raw",
   "metadata": {},
   "source": [
    "QUESTION 4:"
   ]
  },
  {
   "cell_type": "code",
   "execution_count": 4,
   "metadata": {},
   "outputs": [
    {
     "name": "stdout",
     "output_type": "stream",
     "text": [
      "4\n",
      "UP 10\n",
      "RIGHT 20\n",
      "DOWN 4\n",
      "LEFT 10\n",
      "12\n"
     ]
    }
   ],
   "source": [
    "x=0\n",
    "y=0\n",
    "n = int(input())\n",
    "\n",
    "for i in range(n):\n",
    "    direction = input().split(' ')  \n",
    "    \n",
    "    if direction[0].upper() == \"UP\":\n",
    "        y += int(direction[1])\n",
    "    elif direction[0].upper() == \"RIGHT\":\n",
    "        x += int(direction[1])\n",
    "    elif direction[0].upper() == \"DOWN\":\n",
    "        y -= int(direction[1])\n",
    "    elif direction[0].upper() == \"LEFT\":\n",
    "        x -= int(direction[1])\n",
    "    else:\n",
    "        print(\"Invalid Input\")    \n",
    "pos = float((x**2+y**2)**0.5)\n",
    "print(round(pos))"
   ]
  },
  {
   "cell_type": "code",
   "execution_count": null,
   "metadata": {},
   "outputs": [],
   "source": []
  }
 ],
 "metadata": {
  "kernelspec": {
   "display_name": "Python 3",
   "language": "python",
   "name": "python3"
  },
  "language_info": {
   "codemirror_mode": {
    "name": "ipython",
    "version": 3
   },
   "file_extension": ".py",
   "mimetype": "text/x-python",
   "name": "python",
   "nbconvert_exporter": "python",
   "pygments_lexer": "ipython3",
   "version": "3.7.6"
  }
 },
 "nbformat": 4,
 "nbformat_minor": 4
}
